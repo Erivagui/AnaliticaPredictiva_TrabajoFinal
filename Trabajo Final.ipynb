{
  "cells": [
    {
      "cell_type": "markdown",
      "metadata": {
        "id": "view-in-github",
        "colab_type": "text"
      },
      "source": [
        "<a href=\"https://colab.research.google.com/github/MarvinLopezOsorio/AnaliticaPredictiva_TrabajoFinal/blob/main/Trabajo%20Final.ipynb\" target=\"_parent\"><img src=\"https://colab.research.google.com/assets/colab-badge.svg\" alt=\"Open In Colab\"/></a>"
      ]
    },
    {
      "cell_type": "markdown",
      "source": [
        ""
      ],
      "metadata": {
        "id": "85nbVYjMzsyN"
      }
    },
    {
      "cell_type": "markdown",
      "source": [
        ""
      ],
      "metadata": {
        "id": "lml7QNJfzssM"
      }
    },
    {
      "cell_type": "markdown",
      "source": [
        ""
      ],
      "metadata": {
        "id": "MbBmASTHzspU"
      }
    },
    {
      "cell_type": "markdown",
      "source": [
        ""
      ],
      "metadata": {
        "id": "SrdhCIRRzskI"
      }
    },
    {
      "cell_type": "markdown",
      "source": [
        ""
      ],
      "metadata": {
        "id": "wBGXIxoOzsc4"
      }
    },
    {
      "cell_type": "code",
      "execution_count": 1,
      "metadata": {
        "id": "lIYdn1woOS1n"
      },
      "outputs": [],
      "source": [
        "import pandas as pd"
      ]
    },
    {
      "cell_type": "code",
      "source": [
        "myfile = pd.read_excel('https://github.com/MarvinLopezOsorio/AnaliticaPredictiva_TrabajoFinal/blob/main/Base%20de%20Datos%20Universidad.xlsx?raw=true')"
      ],
      "metadata": {
        "id": "zdENSgxxuHOG",
        "outputId": "b5a522ba-8d44-4c81-d873-f0bb8895d4ce",
        "colab": {
          "base_uri": "https://localhost:8080/",
          "height": 556
        }
      },
      "execution_count": 2,
      "outputs": [
        {
          "output_type": "execute_result",
          "data": {
            "text/html": [
              "<div>\n",
              "<style scoped>\n",
              "    .dataframe tbody tr th:only-of-type {\n",
              "        vertical-align: middle;\n",
              "    }\n",
              "\n",
              "    .dataframe tbody tr th {\n",
              "        vertical-align: top;\n",
              "    }\n",
              "\n",
              "    .dataframe thead th {\n",
              "        text-align: right;\n",
              "    }\n",
              "</style>\n",
              "<table border=\"1\" class=\"dataframe\">\n",
              "  <thead>\n",
              "    <tr style=\"text-align: right;\">\n",
              "      <th></th>\n",
              "      <th>Ingreso</th>\n",
              "      <th>Estado</th>\n",
              "      <th>Sexo</th>\n",
              "      <th>Municipio</th>\n",
              "      <th>Edad</th>\n",
              "      <th>Paes</th>\n",
              "      <th>Carrera</th>\n",
              "      <th>Facultad</th>\n",
              "      <th>Segunda carrera</th>\n",
              "      <th>CUM</th>\n",
              "      <th>Porcentaje de avance</th>\n",
              "      <th>Estado actual</th>\n",
              "      <th>Razonamiento Verbal (DAT- VR)</th>\n",
              "      <th>Relaciones Espaciales (DAT - SR)</th>\n",
              "      <th>Razonamiento Abstracto (DAT- AR)</th>\n",
              "      <th>Aptitud Numérica (DAT - NA)</th>\n",
              "      <th>Razonamiento Mecánico (DAT-MR)</th>\n",
              "      <th>Rapidez y precisión perceptiva (DAT -CSA)</th>\n",
              "      <th>Hábitos</th>\n",
              "      <th>Aprobación</th>\n",
              "      <th>tipo institución</th>\n",
              "    </tr>\n",
              "  </thead>\n",
              "  <tbody>\n",
              "    <tr>\n",
              "      <th>0</th>\n",
              "      <td>2017</td>\n",
              "      <td>ACTIVO</td>\n",
              "      <td>Femenino</td>\n",
              "      <td>Soyapango</td>\n",
              "      <td>23</td>\n",
              "      <td>5.52</td>\n",
              "      <td>Licenciatura en Idiomas con especialidad en la...</td>\n",
              "      <td>Facultad de CC. y Humanidades</td>\n",
              "      <td>NaN</td>\n",
              "      <td>8.4</td>\n",
              "      <td>77.14</td>\n",
              "      <td>ACTIVO</td>\n",
              "      <td>75</td>\n",
              "      <td>15</td>\n",
              "      <td>20</td>\n",
              "      <td>5</td>\n",
              "      <td>45</td>\n",
              "      <td>5</td>\n",
              "      <td>5</td>\n",
              "      <td>Aprobado</td>\n",
              "      <td>Privado</td>\n",
              "    </tr>\n",
              "    <tr>\n",
              "      <th>1</th>\n",
              "      <td>2017</td>\n",
              "      <td>ACTIVO</td>\n",
              "      <td>Femenino</td>\n",
              "      <td>Soyapango</td>\n",
              "      <td>23</td>\n",
              "      <td>4.50</td>\n",
              "      <td>Licenciatura en Ciencias de la Comunicación</td>\n",
              "      <td>Facultad de CC. y Humanidades</td>\n",
              "      <td>NaN</td>\n",
              "      <td>8.6</td>\n",
              "      <td>94.00</td>\n",
              "      <td>ACTIVO</td>\n",
              "      <td>75</td>\n",
              "      <td>20</td>\n",
              "      <td>15</td>\n",
              "      <td>50</td>\n",
              "      <td>15</td>\n",
              "      <td>5</td>\n",
              "      <td>1</td>\n",
              "      <td>Aprobado</td>\n",
              "      <td>Privado</td>\n",
              "    </tr>\n",
              "    <tr>\n",
              "      <th>2</th>\n",
              "      <td>2017</td>\n",
              "      <td>ACTIVO</td>\n",
              "      <td>Femenino</td>\n",
              "      <td>Soyapango</td>\n",
              "      <td>24</td>\n",
              "      <td>3.83</td>\n",
              "      <td>Licenciatura en Idiomas con especialidad en Tu...</td>\n",
              "      <td>Facultad de CC. y Humanidades</td>\n",
              "      <td>NaN</td>\n",
              "      <td>7.6</td>\n",
              "      <td>79.41</td>\n",
              "      <td>ACTIVO</td>\n",
              "      <td>45</td>\n",
              "      <td>5</td>\n",
              "      <td>10</td>\n",
              "      <td>30</td>\n",
              "      <td>15</td>\n",
              "      <td>5</td>\n",
              "      <td>4</td>\n",
              "      <td>Aprobado</td>\n",
              "      <td>Público</td>\n",
              "    </tr>\n",
              "    <tr>\n",
              "      <th>3</th>\n",
              "      <td>2017</td>\n",
              "      <td>ACTIVO</td>\n",
              "      <td>Femenino</td>\n",
              "      <td>Soyapango</td>\n",
              "      <td>23</td>\n",
              "      <td>7.85</td>\n",
              "      <td>Licenciatura en Diseño Industrial y de Productos</td>\n",
              "      <td>Facultad de CC. y Humanidades</td>\n",
              "      <td>NaN</td>\n",
              "      <td>7.8</td>\n",
              "      <td>85.60</td>\n",
              "      <td>ACTIVO</td>\n",
              "      <td>90</td>\n",
              "      <td>100</td>\n",
              "      <td>95</td>\n",
              "      <td>60</td>\n",
              "      <td>65</td>\n",
              "      <td>5</td>\n",
              "      <td>7</td>\n",
              "      <td>Aprobado</td>\n",
              "      <td>Público</td>\n",
              "    </tr>\n",
              "    <tr>\n",
              "      <th>4</th>\n",
              "      <td>2017</td>\n",
              "      <td>ACTIVO</td>\n",
              "      <td>Femenino</td>\n",
              "      <td>Soyapango</td>\n",
              "      <td>23</td>\n",
              "      <td>5.14</td>\n",
              "      <td>Licenciatura en Diseño Gráfico</td>\n",
              "      <td>Facultad de CC. y Humanidades</td>\n",
              "      <td>NaN</td>\n",
              "      <td>8.2</td>\n",
              "      <td>95.20</td>\n",
              "      <td>ACTIVO</td>\n",
              "      <td>25</td>\n",
              "      <td>60</td>\n",
              "      <td>10</td>\n",
              "      <td>50</td>\n",
              "      <td>95</td>\n",
              "      <td>5</td>\n",
              "      <td>2</td>\n",
              "      <td>Aprobado</td>\n",
              "      <td>Privado</td>\n",
              "    </tr>\n",
              "  </tbody>\n",
              "</table>\n",
              "</div>"
            ],
            "text/plain": [
              "   Ingreso  Estado      Sexo  ... Hábitos  Aprobación  tipo institución\n",
              "0     2017  ACTIVO  Femenino  ...       5    Aprobado           Privado\n",
              "1     2017  ACTIVO  Femenino  ...       1    Aprobado           Privado\n",
              "2     2017  ACTIVO  Femenino  ...       4    Aprobado           Público\n",
              "3     2017  ACTIVO  Femenino  ...       7    Aprobado           Público\n",
              "4     2017  ACTIVO  Femenino  ...       2    Aprobado           Privado\n",
              "\n",
              "[5 rows x 21 columns]"
            ]
          },
          "metadata": {},
          "execution_count": 2
        }
      ]
    },
    {
      "cell_type": "code",
      "source": [
        ""
      ],
      "metadata": {
        "id": "JgTJPQvzuUo6"
      },
      "execution_count": null,
      "outputs": []
    }
  ],
  "metadata": {
    "colab": {
      "name": "scratchpad",
      "provenance": [],
      "include_colab_link": true
    },
    "kernelspec": {
      "display_name": "Python 3",
      "name": "python3"
    }
  },
  "nbformat": 4,
  "nbformat_minor": 0
}